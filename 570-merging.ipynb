{
 "cells": [
  {
   "cell_type": "markdown",
   "id": "c60be52e",
   "metadata": {},
   "source": [
    "### 2. Merge"
   ]
  },
  {
   "cell_type": "markdown",
   "id": "50f4cb98",
   "metadata": {},
   "source": [
    "#### take look at all the cleaned dataset in once "
   ]
  },
  {
   "cell_type": "code",
   "execution_count": null,
   "id": "03f6d3a1",
   "metadata": {},
   "outputs": [],
   "source": [
    "import pandas as pd\n",
    "import copy\n",
    "collisions_cleaned = pd.read_csv('CleanedData/collisions_cleaned.csv')\n",
    "intersections_cleaned  = pd.read_csv('CleanedData/intersections_cleaned.csv')\n",
    "traffic_signals_cleaned  = pd.read_csv('CleanedData/traffic_signals_cleaned.csv')\n",
    "poles_cleaned  = pd.read_csv('CleanedData/poles_cleaned.csv')\n",
    "streets_cleaned  = pd.read_csv('CleanedData/streets_cleaned.csv')\n",
    "signs_cleaned  = pd.read_csv('CleanedData/signs_cleaned.csv')"
   ]
  },
  {
   "cell_type": "code",
   "execution_count": null,
   "id": "c2034d18",
   "metadata": {},
   "outputs": [],
   "source": [
    "collisions = copy.deepcopy(collisions_cleaned)\n",
    "print(\"Rows:\",len(collisions))\n",
    "for column in collisions.columns:\n",
    "    print(f\"Column name: {column}, Type: {collisions[column].dtype}\")\n",
    "    #print(f\"Unique values: {collisions[column].unique()}\")"
   ]
  },
  {
   "cell_type": "code",
   "execution_count": null,
   "id": "b51ac9c0",
   "metadata": {},
   "outputs": [],
   "source": [
    "intersections = copy.deepcopy(intersections_cleaned)\n",
    "print(\"Rows:\",len(intersections))\n",
    "for column in intersections.columns:\n",
    "    print(f\"Column name: {column}, Type: {intersections[column].dtype}\")\n",
    "    #print(f\"Unique values: {intersections[column].unique()}\")\n",
    "\n",
    "#Arterial classification code:\n",
    "#5 - Interstate Freeway\n",
    "#4 - State Highway\n",
    "#3 - Collector Arterial\n",
    "#2 - Minor Arterial\n",
    "#1 - Principal Arterial\n",
    "#0 - Not Designated (not an arterial) "
   ]
  },
  {
   "cell_type": "code",
   "execution_count": null,
   "id": "f0fe9741",
   "metadata": {},
   "outputs": [],
   "source": [
    "traffic_signals = copy.deepcopy(traffic_signals_cleaned)\n",
    "print(\"Rows:\",len(traffic_signals))\n",
    "for column in traffic_signals.columns:\n",
    "    print(f\"Column name: {column}, Type: {traffic_signals[column].dtype}\")\n",
    "    #print(f\"Unique values: {traffic_signals[column].unique()}\")"
   ]
  },
  {
   "cell_type": "code",
   "execution_count": null,
   "id": "856bacb8",
   "metadata": {},
   "outputs": [],
   "source": [
    "poles = copy.deepcopy(poles_cleaned)\n",
    "print(\"Rows:\",len(poles))\n",
    "for column in poles.columns:\n",
    "    print(f\"Column name: {column}, Type: {poles[column].dtype}\")\n",
    "    #print(f\"Unique values: {poles[column].unique()}\")"
   ]
  },
  {
   "cell_type": "code",
   "execution_count": null,
   "id": "4a9f6c25",
   "metadata": {
    "scrolled": true
   },
   "outputs": [],
   "source": [
    "streets = copy.deepcopy(streets_cleaned)\n",
    "print(\"Rows:\",len(streets))\n",
    "for column in streets.columns:\n",
    "    print(f\"Column name: {column}, Type: {streets[column].dtype}\")\n",
    "    #print(f\"Unique values: {streets[column].unique()}\")"
   ]
  },
  {
   "cell_type": "markdown",
   "id": "29cd163b",
   "metadata": {},
   "source": [
    "####  Some data visualization"
   ]
  },
  {
   "cell_type": "code",
   "execution_count": null,
   "id": "957bc2d2",
   "metadata": {},
   "outputs": [],
   "source": [
    "import folium\n",
    "# plot all 15469 intersections\n",
    "streetlights = poles[poles['STREETLIGHT'] == 'YES']\n",
    "\n",
    "seattle_coordinates = (47.6062, -122.3321)\n",
    "m = folium.Map(location=seattle_coordinates, zoom_start=12)\n",
    "\n",
    "\n",
    "for index, row in intersections.iterrows():\n",
    "    folium.Circle(\n",
    "        location=[row['Y'], row['X']], \n",
    "        radius=15, \n",
    "        color='blue', \n",
    "        fill=0, \n",
    "        fill_color='blue', \n",
    "        fill_opacity=0.3, \n",
    "    ).add_to(m)\n",
    "\n",
    "#plot all collision points\n",
    "for index, row in collisions.iterrows():\n",
    "    folium.CircleMarker(\n",
    "        location=[row['Y'], row['X']],\n",
    "        radius=2,  \n",
    "        color='red',  \n",
    "        fill=True,\n",
    "        fill_color='red', \n",
    "        fill_opacity=1, \n",
    "    ).add_to(m)\n",
    "\n",
    "#plot all poles points\n",
    "for index, row in streetlights.iterrows():\n",
    "    folium.CircleMarker(\n",
    "        location=[row['Y'], row['X']],\n",
    "        radius=2,  \n",
    "        color='orange',  \n",
    "        fill=True,\n",
    "        fill_color='orange', \n",
    "        fill_opacity=1, \n",
    "    ).add_to(m)\n",
    "\n",
    "m"
   ]
  },
  {
   "cell_type": "code",
   "execution_count": null,
   "id": "077c4ecf",
   "metadata": {},
   "outputs": [],
   "source": [
    "#Some formulas\n",
    "import pandas as pd\n",
    "from rtree import index\n",
    "import math \n",
    "from IPython.display import display, clear_output\n",
    "\n",
    "def haversine(lat1, lon1, lat2, lon2):\n",
    "    # 将十进制度数转换为弧度\n",
    "    lat1, lon1, lat2, lon2 = map(math.radians, [lat1, lon1, lat2, lon2])\n",
    "\n",
    "    # Haversine公式\n",
    "    dlat = lat2 - lat1\n",
    "    dlon = lon2 - lon1\n",
    "    a = math.sin(dlat/2)**2 + math.cos(lat1) * math.cos(lat2) * math.sin(dlon/2)**2\n",
    "    c = 2 * math.asin(math.sqrt(a))\n",
    "\n",
    "    # 地球半径 (单位: 米)\n",
    "    earth_radius = 6371000\n",
    "    distance = earth_radius * c\n",
    "    return distance\n",
    "\n",
    "def is_point_in_circle(latitude, longitude, center_latitude, center_longitude, radius):\n",
    "    distance = haversine(latitude, longitude, center_latitude, center_longitude)\n",
    "    return distance <= radius\n",
    "\n",
    "def count_collisions(row, idx, collisions, radius):\n",
    "    global progress_counter\n",
    "    progress_counter += 1\n",
    "    clear_output(wait=True)\n",
    "    display(f\"Progress: {progress_counter}/15469\")\n",
    "    \n",
    "    center_latitude = row['Y']\n",
    "    center_longitude = row['X']\n",
    "    nearby_points = list(idx.intersection((center_longitude - radius, center_latitude - radius, center_longitude + radius, center_latitude + radius)))\n",
    "    count = 0\n",
    "    \n",
    "    for point_idx in nearby_points:\n",
    "        latitude = collisions.at[point_idx, 'Y']\n",
    "        longitude = collisions.at[point_idx, 'X']\n",
    "        if is_point_in_circle(latitude, longitude, center_latitude, center_longitude, radius):\n",
    "            count += 1\n",
    "    return count\n"
   ]
  },
  {
   "cell_type": "markdown",
   "id": "63b66ed2",
   "metadata": {},
   "source": [
    "### Merge Collision and Intersection"
   ]
  },
  {
   "cell_type": "code",
   "execution_count": null,
   "id": "90ddcb6b",
   "metadata": {
    "scrolled": true
   },
   "outputs": [],
   "source": [
    "radius = 15\n",
    "progress_counter = 0\n",
    "idx = index.Index()\n",
    "for i, row in collisions.iterrows():\n",
    "    idx.insert(i, (row['X'], row['Y'], row['X'], row['Y']))\n",
    "\n",
    "intersections_collision['collision_count'] = intersections.apply(lambda row: count_collisions(row, idx, collisions, radius), axis=1)"
   ]
  },
  {
   "cell_type": "code",
   "execution_count": null,
   "id": "70067138",
   "metadata": {
    "scrolled": true
   },
   "outputs": [],
   "source": [
    "intersections_collision.to_csv(\"MergedData/intersections_collisions.csv\", index=False)\n",
    "intersections_collision.head(10)"
   ]
  },
  {
   "cell_type": "markdown",
   "id": "4b319b18",
   "metadata": {},
   "source": [
    "### Merge with ploes"
   ]
  },
  {
   "cell_type": "code",
   "execution_count": null,
   "id": "be7b5739",
   "metadata": {},
   "outputs": [],
   "source": [
    "intersections_collision = pd.read_csv('MergedData/intersections_collisions.csv')\n",
    "streetlights = poles[poles['STREETLIGHT'] == 'YES']"
   ]
  },
  {
   "cell_type": "code",
   "execution_count": null,
   "id": "7be09a2c",
   "metadata": {},
   "outputs": [],
   "source": [
    "radius = 15\n",
    "progress_counter = 0\n",
    "streetlights_counts = []\n",
    "streetlights_height_avgs = []\n",
    "\n",
    "for index, row in intersections_collision.iterrows():\n",
    "    center_latitude = row['Y']\n",
    "    center_longitude = row['X']\n",
    "\n",
    "    streetlights_within_radius = []\n",
    "    \n",
    "    progress_counter += 1\n",
    "    clear_output(wait=True)\n",
    "    display(f\"Progress: {progress_counter}/15469\")\n",
    "    \n",
    "    for _, streetlight in streetlights.iterrows():\n",
    "        latitude = streetlight['Y']\n",
    "        longitude = streetlight['X']\n",
    "\n",
    "        if is_point_in_circle(latitude, longitude, center_latitude, center_longitude, radius):\n",
    "            streetlights_within_radius.append(streetlight)\n",
    "\n",
    "    streetlights_count = len(streetlights_within_radius)\n",
    "    streetlights_counts.append(streetlights_count)\n",
    "\n",
    "    streetlights_height_sum = sum([streetlight['HEIGHT'] for streetlight in streetlights_within_radius])\n",
    "    streetlights_height_avg = streetlights_height_sum / streetlights_count if streetlights_count > 0 else 0\n",
    "    streetlights_height_avgs.append(streetlights_height_avg)\n",
    "\n"
   ]
  },
  {
   "cell_type": "code",
   "execution_count": null,
   "id": "0102dc54",
   "metadata": {},
   "outputs": [],
   "source": [
    "intersections_collision_streetlights = intersections_collision\n",
    "intersections_collision_streetlights['streetlights'] = streetlights_counts\n",
    "intersections_collision_streetlights['streetlights_height_avg'] = streetlights_height_avgs\n",
    "\n",
    "intersections_collision_streetlights.to_csv(\"MergedData/intersections_collision_streetlights.csv\", index=False)\n",
    "intersections_collision_streetlights.head(10)"
   ]
  },
  {
   "cell_type": "code",
   "execution_count": null,
   "id": "b16296af",
   "metadata": {},
   "outputs": [],
   "source": [
    "intersections_collision_streetlights = pd.read_csv('MergedData/intersections_collision_streetlights.csv')\n",
    "#check how many different data values of poles_height_avg in intersections_collision_streetlights\n",
    "unique_values = intersections_collision_streetlights['streetlights_height_avg'].nunique()\n",
    "print(f'streetlights_height_avg has {unique_values} unique data value。')"
   ]
  },
  {
   "cell_type": "markdown",
   "id": "c6d47df1",
   "metadata": {},
   "source": [
    "### Merge with streets"
   ]
  },
  {
   "cell_type": "code",
   "execution_count": null,
   "id": "b060bc4d",
   "metadata": {},
   "outputs": [],
   "source": [
    "streets = copy.deepcopy(streets_cleaned)\n",
    "print(\"Rows:\",len(streets))\n",
    "for column in streets.columns:\n",
    "    print(f\"Column name: {column}, Type: {streets[column].dtype}\")\n",
    "    #print(f\"Unique values: {streets[column].unique()}\")"
   ]
  },
  {
   "cell_type": "code",
   "execution_count": null,
   "id": "8805f17d",
   "metadata": {
    "scrolled": true
   },
   "outputs": [],
   "source": [
    "streets.head(10)"
   ]
  },
  {
   "cell_type": "code",
   "execution_count": null,
   "id": "8f351152",
   "metadata": {},
   "outputs": [],
   "source": [
    "#check if the slope are all positive numbers\n",
    "unique_values = streets['SLOPE_PCT'].unique()\n",
    "print(unique_values)"
   ]
  },
  {
   "cell_type": "code",
   "execution_count": null,
   "id": "c1412718",
   "metadata": {
    "scrolled": true
   },
   "outputs": [],
   "source": [
    "#check if the PVMTCONDINDX1 unique values\n",
    "unique_values = streets['PVMTCONDINDX1'].unique()\n",
    "print(unique_values)"
   ]
  },
  {
   "cell_type": "code",
   "execution_count": null,
   "id": "e5ecfcf0",
   "metadata": {},
   "outputs": [],
   "source": [
    "#check How many 0s in PVMTCONDINDX1\n",
    "value_counts = streets['PVMTCONDINDX1'].value_counts()\n",
    "zero_count = value_counts.loc[0.0] if 0.0 in value_counts.index else 0\n",
    "print(\"Number of 0.0 values:\", zero_count)"
   ]
  },
  {
   "cell_type": "code",
   "execution_count": null,
   "id": "9f0bf9bc",
   "metadata": {},
   "outputs": [],
   "source": [
    "#check How many 0s in PVMTCONDINDX2\n",
    "value_counts = streets['PVMTCONDINDX2'].value_counts()\n",
    "zero_count = value_counts.loc[0.0] if 0.0 in value_counts.index else 0\n",
    "print(\"Number of 0.0 values:\", zero_count)"
   ]
  },
  {
   "cell_type": "code",
   "execution_count": null,
   "id": "50884310",
   "metadata": {
    "scrolled": true
   },
   "outputs": [],
   "source": [
    "intersections_collision_streetlights = pd.read_csv('MergedData/intersections_collision_streetlights.csv')\n",
    "\n",
    "print(\"Rows:\",len(intersections_collision_streetlights))\n",
    "for column in intersections_collision_streetlights.columns:\n",
    "    print(f\"Column name: {column}, Type: {intersections_collision_streetlights[column].dtype}\")\n",
    "    \n",
    "intersections_collision_streetlights.head(10)"
   ]
  },
  {
   "cell_type": "code",
   "execution_count": null,
   "id": "93d8b2a5",
   "metadata": {},
   "outputs": [],
   "source": [
    "unique_values = intersections_collision_streetlights['UNITDESC'].unique()\n",
    "print(len(unique_values))"
   ]
  },
  {
   "cell_type": "code",
   "execution_count": null,
   "id": "737e28aa",
   "metadata": {},
   "outputs": [],
   "source": [
    "def split_unitdesc(unitdesc):\n",
    "    streets = unitdesc.split(' AND ')\n",
    "    return pd.Series([streets[0], streets[1]])\n",
    "\n",
    "if 'UNITDESC' in intersections_collision_streetlights.columns:\n",
    "    intersections_collision_streetlights[['Street1', 'Street2']] = intersections_collision_streetlights['UNITDESC'].apply(split_unitdesc)\n",
    "else:\n",
    "    print(\"Error: 'UNITDESC' column not found in the DataFrame\")"
   ]
  },
  {
   "cell_type": "code",
   "execution_count": null,
   "id": "9308a742",
   "metadata": {},
   "outputs": [],
   "source": [
    "intersections_collision_streetlights.head(10)"
   ]
  },
  {
   "cell_type": "code",
   "execution_count": null,
   "id": "a798726b",
   "metadata": {},
   "outputs": [],
   "source": [
    "import numpy as np\n",
    "\n",
    "def find_related_streets(row):\n",
    "    \n",
    "    if_STNAME_ORD_match = ((streets['STNAME_ORD'] == row['Street1']) | (streets['STNAME_ORD'] == row['Street2']))\n",
    "    if_XSTRLO_match = (\n",
    "                       ((streets['XSTRLO'] == row['Street1']) & (streets['STNAME_ORD'] != row['Street1'])) | \\\n",
    "                       ((streets['XSTRLO'] == row['Street2']) & (streets['STNAME_ORD'] != row['Street2']))\n",
    "                      )\n",
    "    if_XSTRHI_match = (\n",
    "                       ((streets['XSTRHI'] == row['Street1']) & (streets['STNAME_ORD'] != row['Street1'])) | \\\n",
    "                       ((streets['XSTRHI'] == row['Street2']) & (streets['STNAME_ORD'] != row['Street2']))\n",
    "                       )\n",
    "    \n",
    "    \n",
    "    match_count = if_STNAME_ORD_match.astype(int)+(if_XSTRLO_match | if_XSTRHI_match).astype(int)\n",
    "           \n",
    "    ge_2_indices = match_count[match_count >= 2].index\n",
    "    ge_2_indices_list = ge_2_indices.tolist()\n",
    "    related_streets = streets.loc[ge_2_indices_list]\n",
    "\n",
    "    return related_streets\n",
    "\n",
    "def calculate_average_features(row):\n",
    "    global progress_counter\n",
    "    \n",
    "    related_streets = find_related_streets(row)\n",
    "    \n",
    "    progress_counter += 1\n",
    "    clear_output(wait=True)\n",
    "    display(f\"Progress: {progress_counter}/15469\")\n",
    "    \n",
    "    if not related_streets.empty:\n",
    "        return pd.Series([related_streets.shape[0],\n",
    "                          related_streets['PVMTCONDINDX1'].mean(),\n",
    "                          related_streets['PVMTCONDINDX2'].mean(),\n",
    "                          related_streets['SLOPE_PCT'].mean(),\n",
    "                          related_streets['TRANCLASS'].mean(),\n",
    "                          related_streets['SPEEDLIMIT'].mean()])\n",
    "    else:\n",
    "        return pd.Series([0, np.nan, np.nan, np.nan, np.nan, np.nan])"
   ]
  },
  {
   "cell_type": "code",
   "execution_count": null,
   "id": "bf7dfa72",
   "metadata": {
    "scrolled": false
   },
   "outputs": [],
   "source": [
    "progress_counter = 0\n",
    "intersections_collision_streetlights_streets = copy.deepcopy(intersections_collision_streetlights)\n",
    "intersections_collision_streetlights_streets[['related_street_num','PVMTCONDINDX1_mean', 'PVMTCONDINDX2_mean', 'SLOPE_PCT_mean', 'TRANCLASS_mean', 'SPEEDLIMIT_mean']] = intersections_collision_streetlights_streets.apply(calculate_average_features, axis=1)"
   ]
  },
  {
   "cell_type": "code",
   "execution_count": null,
   "id": "c0be537c",
   "metadata": {
    "scrolled": false
   },
   "outputs": [],
   "source": [
    "intersections_collision_streetlights_streets.head(10)"
   ]
  },
  {
   "cell_type": "code",
   "execution_count": null,
   "id": "daee0b5b",
   "metadata": {},
   "outputs": [],
   "source": [
    "intersections_collision_streetlights_streets[\"related_street_num\"].unique()"
   ]
  },
  {
   "cell_type": "code",
   "execution_count": null,
   "id": "fa45f9a9",
   "metadata": {
    "scrolled": false
   },
   "outputs": [],
   "source": [
    "rows_with_6 = intersections_collision_streetlights_streets[intersections_collision_streetlights_streets[\"related_street_num\"] == 6]\n",
    "rows_with_6"
   ]
  },
  {
   "cell_type": "code",
   "execution_count": null,
   "id": "52d72f5b",
   "metadata": {},
   "outputs": [],
   "source": [
    "first_row = rows_with_6.iloc[0]\n",
    "related_streets = find_related_streets(first_row)\n",
    "related_streets"
   ]
  },
  {
   "cell_type": "code",
   "execution_count": null,
   "id": "ff4dd04c",
   "metadata": {
    "scrolled": true
   },
   "outputs": [],
   "source": [
    "print(\"Rows:\",len(intersections_collision_streetlights_streets))\n",
    "for column in intersections_collision_streetlights_streets.columns:\n",
    "    print(f\"Column name: {column}, Type: {intersections_collision_streetlights_streets[column].dtype},NAs,{len(intersections_collision_streetlights_streets[column])-len(intersections_collision_streetlights_streets[column].dropna())}\")\n",
    "    "
   ]
  },
  {
   "cell_type": "code",
   "execution_count": null,
   "id": "a830e296",
   "metadata": {
    "scrolled": true
   },
   "outputs": [],
   "source": [
    "#Drop NAs\n",
    "intersections_collision_streetlights_streets.dropna(inplace=True)\n",
    "\n",
    "print(\"Rows:\",len(intersections_collision_streetlights_streets))\n",
    "for column in intersections_collision_streetlights_streets.columns:\n",
    "    print(f\"Column name: {column}, Type: {intersections_collision_streetlights_streets[column].dtype},NAs,{len(intersections_collision_streetlights_streets[column])-len(intersections_collision_streetlights_streets[column].dropna())}\")\n",
    "    "
   ]
  },
  {
   "cell_type": "code",
   "execution_count": null,
   "id": "4d1edebb",
   "metadata": {},
   "outputs": [],
   "source": [
    "columns_to_drop = ['Street1', 'Street2', 'PVMTCONDINDX2_mean']\n",
    "intersections_collision_streetlights_streets.drop(columns=columns_to_drop, inplace=True)"
   ]
  },
  {
   "cell_type": "code",
   "execution_count": null,
   "id": "2d697aec",
   "metadata": {
    "scrolled": true
   },
   "outputs": [],
   "source": [
    "intersections_collision_streetlights_streets.head(3)"
   ]
  },
  {
   "cell_type": "code",
   "execution_count": null,
   "id": "1ae03f94",
   "metadata": {},
   "outputs": [],
   "source": [
    "intersections_collision_streetlights_streets.to_csv(\"MergedData/intersections_collision_streetlights_streets.csv\", index=False)"
   ]
  },
  {
   "cell_type": "markdown",
   "id": "e4f62883",
   "metadata": {},
   "source": [
    "### Merge with Traffic Signals"
   ]
  },
  {
   "cell_type": "code",
   "execution_count": null,
   "id": "a2a791a2",
   "metadata": {},
   "outputs": [],
   "source": [
    "intersections_collision_streetlights_streets_traffic_signals = pd.read_csv('MergedData/intersections_collision_streetlights_streets.csv')"
   ]
  },
  {
   "cell_type": "code",
   "execution_count": null,
   "id": "d28a181c",
   "metadata": {},
   "outputs": [],
   "source": [
    "print(\"Rows:\",len(traffic_signals_cleaned))\n",
    "for column in traffic_signals_cleaned.columns:\n",
    "    print(f\"Column name: {column}, Type: {traffic_signals_cleaned[column].dtype},NAs,{len(traffic_signals_cleaned[column])-len(traffic_signals_cleaned[column].dropna())}\")\n",
    "    "
   ]
  },
  {
   "cell_type": "code",
   "execution_count": null,
   "id": "ac366cc8",
   "metadata": {},
   "outputs": [],
   "source": [
    "print(\"Rows:\",len(intersections_collision_streetlights_streets_traffic_signals))\n",
    "for column in intersections_collision_streetlights_streets_traffic_signals.columns:\n",
    "    print(f\"Column name: {column}, Type: {intersections_collision_streetlights_streets_traffic_signals[column].dtype},NAs,{len(intersections_collision_streetlights_streets_traffic_signals[column])-len(intersections_collision_streetlights_streets_traffic_signals[column].dropna())}\")\n",
    "    "
   ]
  },
  {
   "cell_type": "code",
   "execution_count": null,
   "id": "0d127a1d",
   "metadata": {},
   "outputs": [],
   "source": [
    "traffic_signals_cleaned['UNITDESC'] = traffic_signals_cleaned['UNITDESC'].str.rstrip()"
   ]
  },
  {
   "cell_type": "code",
   "execution_count": null,
   "id": "3bc3cff4",
   "metadata": {},
   "outputs": [],
   "source": [
    "intersections_collision_streetlights_streets_traffic_signals = intersections_collision_streetlights_streets_traffic_signals.merge(traffic_signals_cleaned, on='UNITDESC', how='left')"
   ]
  },
  {
   "cell_type": "code",
   "execution_count": null,
   "id": "a6c82a9d",
   "metadata": {},
   "outputs": [],
   "source": [
    "#Drop NAs\n",
    "intersections_collision_streetlights_streets_traffic_signals.dropna(inplace=True)\n",
    "\n",
    "print(\"Rows:\",len(intersections_collision_streetlights_streets_traffic_signals))\n",
    "for column in intersections_collision_streetlights_streets_traffic_signals.columns:\n",
    "    print(f\"Column name: {column}, Type: {intersections_collision_streetlights_streets_traffic_signals[column].dtype},NAs,{len(intersections_collision_streetlights_streets_traffic_signals[column])-len(intersections_collision_streetlights_streets_traffic_signals[column].dropna())}\")\n",
    "    "
   ]
  },
  {
   "cell_type": "code",
   "execution_count": null,
   "id": "76021c95",
   "metadata": {},
   "outputs": [],
   "source": [
    "first_row = intersections_collision_streetlights_streets_traffic_signals.iloc[1]\n",
    "for column_name, value in zip(intersections_collision_streetlights_streets_traffic_signals.columns, first_row):\n",
    "    print(f\"{column_name}: {value}\")\n"
   ]
  },
  {
   "cell_type": "code",
   "execution_count": null,
   "id": "c8fcfc87",
   "metadata": {},
   "outputs": [],
   "source": [
    "columns_to_drop = ['ARTERIAL_CLASS'，'INT_SIGNAL_TYPE_CD']\n",
    "intersections_collision_streetlights_streets_traffic_signals.drop(columns=columns_to_drop, inplace=True)"
   ]
  },
  {
   "cell_type": "code",
   "execution_count": null,
   "id": "e039e4c6",
   "metadata": {},
   "outputs": [],
   "source": [
    "intersections_collision_streetlights_streets_traffic_signals.to_csv(\"MergedData/intersections_collision_streetlights_streets_traffic_signals.csv\", index=False)"
   ]
  },
  {
   "cell_type": "markdown",
   "id": "2b4c7187",
   "metadata": {},
   "source": [
    "### Merge with street Sign"
   ]
  },
  {
   "cell_type": "code",
   "execution_count": null,
   "id": "859d5f89",
   "metadata": {},
   "outputs": [],
   "source": [
    "intersections_collision_streetlights_streets_street_sign = pd.read_csv('MergedData/intersections_collision_streetlights_streets.csv')\n",
    "signs = copy.deepcopy(signs_cleaned)"
   ]
  },
  {
   "cell_type": "code",
   "execution_count": null,
   "id": "d699115d",
   "metadata": {},
   "outputs": [],
   "source": [
    "signs.head(2)"
   ]
  },
  {
   "cell_type": "code",
   "execution_count": null,
   "id": "b47b3c4c",
   "metadata": {
    "scrolled": true
   },
   "outputs": [],
   "source": [
    "intersections_collision_streetlights_streets_street_sign.head(2)"
   ]
  },
  {
   "cell_type": "code",
   "execution_count": null,
   "id": "460ec254",
   "metadata": {},
   "outputs": [],
   "source": [
    "intersections_collision_streetlights_streets_street_sign[\"SIGNAL_TYPE\"].unique()"
   ]
  },
  {
   "cell_type": "code",
   "execution_count": null,
   "id": "d2e0a52b",
   "metadata": {},
   "outputs": [],
   "source": [
    "radius = 15\n",
    "progress_counter = 0\n",
    "intersections_collision_streetlights_streets_street_sign[\"stop_sign_quantities\"] = 0\n",
    "intersections_collision_streetlights_streets_street_sign[\"yield_sign_quantities\"] = 0\n",
    "\n",
    "for index, row in intersections_collision_streetlights_streets_street_sign.iterrows():\n",
    "    center_latitude = row['Y']\n",
    "    center_longitude = row['X']\n",
    "\n",
    "    signs_within_radius = []\n",
    "    \n",
    "    progress_counter += 1\n",
    "    clear_output(wait=True)\n",
    "    display(f\"Progress: {progress_counter}/15469\")\n",
    "    \n",
    "    for _, sign in signs.iterrows():\n",
    "        latitude = sign['Y']\n",
    "        longitude = sign['X']\n",
    "\n",
    "        if is_point_in_circle(latitude, longitude, center_latitude, center_longitude, radius):\n",
    "            signs_within_radius.append(sign)\n",
    "    \n",
    "    stop_count = sum(1 for sign in signs_within_radius if sign[\"SIGNTYPE\"] == \"stop\")\n",
    "    yield_count = sum(1 for sign in signs_within_radius if sign[\"SIGNTYPE\"] == \"yield\")\n",
    "\n",
    "    intersections_collision_streetlights_streets_street_sign.loc[index, \"stop_sign_quantities\"] = stop_count\n",
    "    intersections_collision_streetlights_streets_street_sign.loc[index, \"yield_sign_quantities\"] = yield_count"
   ]
  },
  {
   "cell_type": "code",
   "execution_count": null,
   "id": "cffe06b8",
   "metadata": {},
   "outputs": [],
   "source": [
    "stop_sign_quantities_unique = intersections_collision_streetlights_streets_street_sign[\"stop_sign_quantities\"].value_counts()\n",
    "yield_sign_quantities_unique = intersections_collision_streetlights_streets_street_sign[\"yield_sign_quantities\"].value_counts()\n",
    "\n",
    "print(\"Unique values and counts for stop_sign_quantities:\")\n",
    "print(stop_sign_quantities_unique)\n",
    "print(\"\\nUnique values and counts for yield_sign_quantities:\")\n",
    "print(yield_sign_quantities_unique)\n"
   ]
  },
  {
   "cell_type": "code",
   "execution_count": null,
   "id": "3728ca1e",
   "metadata": {},
   "outputs": [],
   "source": [
    "unique_traffic_signals_unitdesc = intersections_collision_streetlights_streets_traffic_signals[\"UNITDESC\"].unique()\n",
    "\n",
    "filtered_intersections_collision_streetlights_streets_street_sign = intersections_collision_streetlights_streets_street_sign[\n",
    "    ~intersections_collision_streetlights_streets_street_sign[\"UNITDESC\"].isin(unique_traffic_signals_unitdesc)\n",
    "]\n",
    "print(len(filtered_intersections_collision_streetlights_streets_street_sign))"
   ]
  },
  {
   "cell_type": "code",
   "execution_count": null,
   "id": "489d270d",
   "metadata": {},
   "outputs": [],
   "source": [
    "filtered_intersections_collision_streetlights_streets_street_sign.to_csv(\"MergedData/intersections_collision_streetlights_streets_street_sign.csv\", index=False)"
   ]
  },
  {
   "cell_type": "code",
   "execution_count": null,
   "id": "8ab6f75e",
   "metadata": {},
   "outputs": [],
   "source": []
  }
 ],
 "metadata": {
  "kernelspec": {
   "display_name": "Python 3 (ipykernel)",
   "language": "python",
   "name": "python3"
  },
  "language_info": {
   "codemirror_mode": {
    "name": "ipython",
    "version": 3
   },
   "file_extension": ".py",
   "mimetype": "text/x-python",
   "name": "python",
   "nbconvert_exporter": "python",
   "pygments_lexer": "ipython3",
   "version": "3.10.0"
  }
 },
 "nbformat": 4,
 "nbformat_minor": 5
}
